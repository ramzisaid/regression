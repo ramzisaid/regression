{
 "cells": [
  {
   "cell_type": "markdown",
   "metadata": {},
   "source": [
    "# Übung zur Regression"
   ]
  },
  {
   "cell_type": "markdown",
   "metadata": {},
   "source": [
    "## Aufgabe 1"
   ]
  },
  {
   "cell_type": "markdown",
   "metadata": {},
   "source": [
    "Geben Sie für die drei Fallbeispiele jeweils die abhängige Variable (Target) und die unabhängigen Variablen (Features) an und bestimmen Sie, ob eine lineare Regression oder eine logistische durchgeführt werden sollte.\n",
    "\n",
    "\n",
    "- Steigt die Armut bei Familien, wenn diese mehr Kinder haben ?\n",
    "Variablen: Familie_unter_Armutsgrenze (bool), Anzahl_Kinder (int), Beruf (codiert(int)), Raucher_in_Familie (bool) \n",
    "\n",
    "- Sinkt die Anzahl der Temposünder, wenn man mehr Schilder aufstellt ?\n",
    "Variablen: Anzahl_Temposünder (int), Anzahl_Schilder (int), Zeit (codiert(int))\n",
    "\n",
    "- Verbessert sich die Note einer Prüfung, wenn das Bestehen von Scheinaufgaben erforderlich sind für die Teilnahme.\n",
    "Variablen: Scheinaufgaben (bool), Anzahl_Scheinaufgaben (int), Note (int) "
   ]
  },
  {
   "cell_type": "markdown",
   "metadata": {},
   "source": [
    "## Aufgabe 2"
   ]
  },
  {
   "cell_type": "markdown",
   "metadata": {},
   "source": [
    "Importieren sie das 'affairs dataset', dass im Notebook im Teil über die logistische Regression verwendet wurde.\n",
    "\n",
    "Stellen Sie ein gültiges Regressionsmodell auf und prognostizieren Sie die Wahrscheinlichkeit, dass folgende fiktive Studienteilnehmerin eine außereheliche Beziehung hatte:\n",
    "\n",
    "- 25 Jahre alt\n",
    "- Krankenschwester\n",
    "- College-Abschluss\n",
    "- 3-Jahre verheiratet\n",
    "- 1 Kinde\n",
    "- sehr religiös\n",
    "- mittelmäßige Ehe\n",
    "- Ehemann ist von Beruf Farmer"
   ]
  }
 ],
 "metadata": {
  "kernelspec": {
   "display_name": "Python 3",
   "language": "python",
   "name": "python3"
  },
  "language_info": {
   "codemirror_mode": {
    "name": "ipython",
    "version": 3
   },
   "file_extension": ".py",
   "mimetype": "text/x-python",
   "name": "python",
   "nbconvert_exporter": "python",
   "pygments_lexer": "ipython3",
   "version": "3.6.0"
  }
 },
 "nbformat": 4,
 "nbformat_minor": 2
}
