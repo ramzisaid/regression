{
 "cells": [
  {
   "cell_type": "markdown",
   "metadata": {},
   "source": [
    "# Übung zur Regression"
   ]
  },
  {
   "cell_type": "markdown",
   "metadata": {},
   "source": [
    "## Aufgabe 1"
   ]
  },
  {
   "cell_type": "markdown",
   "metadata": {},
   "source": [
    "Geben Sie für die drei Fallbeispiele jeweils die abhängige Variable (Target) und die unabhängigen Variablen (Features) an und bestimmen Sie, ob eine lineare Regression oder eine logistische durchgeführt werden sollte.\n",
    "\n",
    "\n",
    "a) Steigt die Armut bei Familien, wenn diese mehr Kinder haben ?\n",
    "Variablen: Familie_unter_Armutsgrenze (bool), Anzahl_Kinder (int), Beruf (codiert(int)), Raucher_in_Familie (bool) \n",
    "\n",
    "b) Sinkt die Anzahl der Temposünder, wenn man mehr Schilder aufstellt ?\n",
    "Variablen: Anzahl_Temposünder (int), Anzahl_Schilder (int), Zeit (codiert(int))\n",
    "\n",
    "c) Verbessert sich die Note einer Prüfung, wenn das Bestehen von Scheinaufgaben erforderlich sind für die Teilnahme.\n",
    "Variablen: Scheinaufgaben (bool), Anzahl_Scheinaufgaben (int), Note (int) "
   ]
  },
  {
   "cell_type": "markdown",
   "metadata": {},
   "source": [
    "a) Logistische Regression\n",
    "Target: Famile_unter_Armutsgrenze\n",
    "Features: Der Rest, falls die Analyse dieser ergibt, dass die Variablen überhaupt einen Zusammenhang mit dem Target haben\n",
    "\n",
    "b) Lineare Regression\n",
    "Target: Anzahl_Temposünder\n",
    "Features: Der Rest, falls die Analyse dieser ergibt, dass die Variablen überhaupt einen Zusammenhang mit dem Target haben\n",
    "\n",
    "c) Lineare Regression\n",
    "Target: Note\n",
    "Features: Der Rest, falls die Analyse dieser ergibt, dass die Variablen überhaupt einen Zusammenhang mit dem Target haben"
   ]
  },
  {
   "cell_type": "markdown",
   "metadata": {},
   "source": [
    "## Aufgabe 2"
   ]
  },
  {
   "cell_type": "markdown",
   "metadata": {},
   "source": [
    "Importieren sie das 'affairs dataset', dass im Notebook im Teil über die logistische Regression verwendet wurde.\n",
    "\n",
    "Stellen Sie ein gültiges Regressionsmodell auf und prognostizieren Sie die Wahrscheinlichkeit, dass folgende fiktive Studienteilnehmerin eine außereheliche Beziehung hatte:\n",
    "\n",
    "- 25 Jahre alt\n",
    "- Krankenschwester\n",
    "- College-Abschluss\n",
    "- 3-Jahre verheiratet\n",
    "- 1 Kinde\n",
    "- sehr religiös\n",
    "- mittelmäßige Ehe\n",
    "- Ehemann ist von Beruf Farmer"
   ]
  },
  {
   "cell_type": "code",
   "execution_count": 43,
   "metadata": {
    "collapsed": false
   },
   "outputs": [
    {
     "name": "stderr",
     "output_type": "stream",
     "text": [
      "C:\\Users\\Dell\\Anaconda3\\lib\\site-packages\\sklearn\\utils\\validation.py:395: DeprecationWarning: Passing 1d arrays as data is deprecated in 0.17 and will raise ValueError in 0.19. Reshape your data either using X.reshape(-1, 1) if your data has a single feature or X.reshape(1, -1) if it contains a single sample.\n",
      "  DeprecationWarning)\n"
     ]
    },
    {
     "data": {
      "text/plain": [
       "array([[ 0.77301474,  0.22698526]])"
      ]
     },
     "execution_count": 43,
     "metadata": {},
     "output_type": "execute_result"
    }
   ],
   "source": [
    "import numpy as np\n",
    "import pandas as pd\n",
    "import statsmodels.api as sm\n",
    "import matplotlib.pyplot as plt\n",
    "from patsy import dmatrices\n",
    "from sklearn.linear_model import LogisticRegression\n",
    "from sklearn.cross_validation import train_test_split\n",
    "from sklearn import metrics\n",
    "from sklearn.cross_validation import cross_val_score\n",
    "\n",
    "dta = sm.datasets.fair.load_pandas().data\n",
    "dta['affaere'] = (dta.affairs > 0).astype(int)\n",
    "\n",
    "y, X = dmatrices('affaere ~ rate_marriage + age + yrs_married + children + \\\n",
    "                  religious + educ + C(occupation) + C(occupation_husb)',\n",
    "                  dta, return_type=\"dataframe\")\n",
    "y = np.ravel(y) \n",
    "\n",
    "\n",
    "X_train, X_test, y_train, y_test = train_test_split(X, y, test_size=0.3, random_state=0)\n",
    "logmodell2 = LogisticRegression()\n",
    "logmodell2.fit(X_train, y_train)\n",
    "\n",
    "logmodell2.predict_proba(np.array([1, 0, 0, 1, 0, 0, 1, 0, 0, 0, 0, 3, 25, 3, 1, 4,\n",
    "                              16]))\n"
   ]
  },
  {
   "cell_type": "markdown",
   "metadata": {},
   "source": [
    "Die Wahrscheinlichkeit liegt bei 23%"
   ]
  }
 ],
 "metadata": {
  "kernelspec": {
   "display_name": "Python 3",
   "language": "python",
   "name": "python3"
  },
  "language_info": {
   "codemirror_mode": {
    "name": "ipython",
    "version": 3
   },
   "file_extension": ".py",
   "mimetype": "text/x-python",
   "name": "python",
   "nbconvert_exporter": "python",
   "pygments_lexer": "ipython3",
   "version": "3.6.0"
  }
 },
 "nbformat": 4,
 "nbformat_minor": 2
}
